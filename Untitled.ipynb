{
 "cells": [
  {
   "cell_type": "code",
   "execution_count": 4,
   "metadata": {},
   "outputs": [
    {
     "name": "stdout",
     "output_type": "stream",
     "text": [
      "tokens: ['Critical', 'explorations', 'that', 'deal', 'with', 'music', 'as', 'well', 'as', 'language', 'often', 'analyze', '‘', 'music', 'as', 'language', '’', '.', 'In', 'this', 'translation', ',', 'many', 'sonic', ',', 'and', 'often', ',', 'embodied', 'aspects', 'of', 'music', 'cognition', 'and', 'perception', 'are', 'missed', '.', 'For', 'example', ',', 'treating', 'melodic', 'lines', 'as', 'notes', 'has', 'often', 'missed', 'the', 'aspects', 'of', 'contour', 'perception', ',', 'and', 'the', 'motor', 'aspects', 'of', 'melodic', 'production', '.', 'Exaggerated', 'contour', 'explorations', 'are', 'particularly', 'common', 'in', 'infant', 'babble', '--', '-a', 'slow', 'exploration', 'of', 'the', 'apparatus', 'of', 'enunciation', ',', 'from', 'vocables', 'and', 'vowels', 'to', 'non-speech', 'sounds', '.', 'Children', 'repeat', 'melodic', 'contours', 'and', 'melodic', 'phrases', 'over', 'and', 'over', 'during', 'play', '.', 'These', 'infant', 'melodies', 'are', 'essential', 'to', 'the', 'development', 'of', 'speech', 'and', 'hearing', '.', 'Specifically', ',', 'contour', 'acquisition', 'is', 'equally', 'important', 'to', 'understand', 'emotional', 'nuances', 'of', 'speech', 'as', 'it', 'is', 'for', 'remembering', 'musical', 'melodies', '.', 'Whether', 'our', 'nuanced', 'understanding', 'of', 'contours', 'is', 'developed', 'for', 'either', 'speech', 'or', 'music', 'is', 'not', 'a', 'question', 'this', 'thesis', 'explores', ';', 'throughout', 'history']\n"
     ]
    }
   ],
   "source": [
    "%run runBot.py"
   ]
  },
  {
   "cell_type": "code",
   "execution_count": 5,
   "metadata": {},
   "outputs": [
    {
     "name": "stdout",
     "output_type": "stream",
     "text": [
      "nltk\t numpy\t plt\t sample\t tagged\t tokens\t \n"
     ]
    }
   ],
   "source": [
    "who"
   ]
  },
  {
   "cell_type": "code",
   "execution_count": 7,
   "metadata": {},
   "outputs": [
    {
     "name": "stdout",
     "output_type": "stream",
     "text": [
      "music\n",
      "language\n",
      "music\n",
      "language\n",
      "’\n",
      "translation\n",
      "sonic\n",
      "music\n",
      "cognition\n",
      "perception\n",
      "example\n",
      "contour\n",
      "perception\n",
      "motor\n",
      "production\n",
      "exploration\n",
      "apparatus\n",
      "enunciation\n",
      "repeat\n",
      "melodic\n",
      "play\n",
      "development\n",
      "speech\n",
      "hearing\n",
      "acquisition\n",
      "speech\n",
      "understanding\n",
      "contours\n",
      "speech\n",
      "music\n",
      "question\n",
      "thesis\n",
      "history\n"
     ]
    }
   ],
   "source": [
    "for a, b in tagged:\n",
    "    if b == 'NN':\n",
    "        print(a)"
   ]
  },
  {
   "cell_type": "code",
   "execution_count": null,
   "metadata": {},
   "outputs": [],
   "source": [
    "\n"
   ]
  }
 ],
 "metadata": {
  "kernelspec": {
   "display_name": "Python 3",
   "language": "python",
   "name": "python3"
  },
  "language_info": {
   "codemirror_mode": {
    "name": "ipython",
    "version": 3
   },
   "file_extension": ".py",
   "mimetype": "text/x-python",
   "name": "python",
   "nbconvert_exporter": "python",
   "pygments_lexer": "ipython3",
   "version": "3.6.8"
  }
 },
 "nbformat": 4,
 "nbformat_minor": 2
}
